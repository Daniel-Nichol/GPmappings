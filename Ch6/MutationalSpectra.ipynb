{
 "cells": [
  {
   "cell_type": "markdown",
   "metadata": {},
   "source": [
    "# Chapter 6 - Mutational Spectra (Section 6.3)\n",
    "The results of Section 6.3 are derived from repeated simulation of growth, mutation and genomic sequencing in exponentially growing populations exhibiting either genetically-driven resistance or bet-hedging-driven resistance. The simulations are defined in the Python files\n",
    "\n",
    "mutsimselection.py - Simulation of growth with genetically-driven resistance\n",
    "\n",
    "mutimBH - Simulation of growth with bet-hedging-driven resistance\n",
    "\n",
    "These files must be run in the same folder as primes.txt which contains a list of primes used in the optimisation (as outlined in Section 6.3.1 - Model Optimisation).\n",
    "\n",
    "To generate a sufficient dataset to create the results figures, these scripts should be run a large number of times (200 runs were performed for the results presented in the thesis)"
   ]
  },
  {
   "cell_type": "code",
   "execution_count": 2,
   "metadata": {},
   "outputs": [
    {
     "name": "stdout",
     "output_type": "stream",
     "text": [
      "Python version:  2.7.13 |Continuum Analytics, Inc.| (default, Dec 20 2016, 23:05:08) \n",
      "[GCC 4.2.1 Compatible Apple LLVM 6.0 (clang-600.0.57)]\n",
      "numpy version:  1.11.3\n",
      "matplotlib version:  2.0.2\n"
     ]
    }
   ],
   "source": [
    "import sys\n",
    "\n",
    "import matplotlib\n",
    "import matplotlib.pyplot as plt\n",
    "from matplotlib import rc\n",
    "from mpl_toolkits.axes_grid1 import Grid\n",
    "import numpy as np\n",
    "import seaborn as sns\n",
    "\n",
    "import seaborn as sbn\n",
    "sbn.set(rc={'image.cmap': 'cubehelix'})\n",
    "sbn.set_style(\"white\")\n",
    "\n",
    "print \"Python version: \", sys.version\n",
    "print \"numpy version: \", np.__version__\n",
    "print \"matplotlib version: \", matplotlib.__version__"
   ]
  },
  {
   "cell_type": "markdown",
   "metadata": {},
   "source": [
    "## Example model use\n",
    "The simulation of population growth can be performed as follows"
   ]
  },
  {
   "cell_type": "code",
   "execution_count": 3,
   "metadata": {},
   "outputs": [
    {
     "name": "stdout",
     "output_type": "stream",
     "text": [
      "CPU times: user 57.8 s, sys: 4.89 s, total: 1min 2s\n",
      "Wall time: 1min 3s\n"
     ]
    }
   ],
   "source": [
    "import mutsimBH as msb\n",
    "\n",
    "#Example simulation Parameters\n",
    "rate = np.log(150)*1./(7*24.)\n",
    "br = 1./24\n",
    "dr = br - rate\n",
    "drugEffect = 10\n",
    "mu = 1./10.\n",
    "drugSize = 2.5 * 10**4\n",
    "finSize = 1.02 * drugSize\n",
    "Tdrug = 24. * 7. * 2\n",
    "#Run the simulation\n",
    "ts, hist, sizes = msb.sim(finSize, drugSize, Tdrug, br, 0.1*br, dr, 0.01*dr, drugEffect, mu, 0.99, 0.01)\n",
    "#Extract the counts\n",
    "cs1, cs2 = msb.extractcounts(hist) #Warning V. slow."
   ]
  },
  {
   "cell_type": "code",
   "execution_count": null,
   "metadata": {
    "collapsed": true
   },
   "outputs": [],
   "source": [
    "##############################################################################\n",
    "# Load the data\n",
    "##############################################################################\n",
    "def load_curves(subdir):\n",
    "    curve_list = []\n",
    "    for file in glob.glob(subdir+\"/curve_*.npy\"):\n",
    "        ts, cvs = np.load(file)\n",
    "        curve_list.append((ts, cvs[0], cvs[1]))        \n",
    "    return curve_list\n",
    "\n",
    "def load_freqs(subdir):\n",
    "    pre_freqs, post_freqs = [], [] \n",
    "    for file in glob.glob(subdir+\"/predrug_*.npy\"):\n",
    "        spec = np.load(file)\n",
    "        pre_freqs.append(spec)\n",
    "    for file in glob.glob(subdir+\"/progression_*.npy\"):    \n",
    "        spec = np.load(file)\n",
    "        post_freqs.append(spec)\n",
    "\n",
    "    pre_freqs = map(lambda f : f/2. , pre_freqs)\n",
    "    post_freqs = map(lambda f : f/2. , post_freqs)\n",
    "    return zip(pre_freqs, post_freqs) \n",
    "\n"
   ]
  }
 ],
 "metadata": {
  "kernelspec": {
   "display_name": "Python 2",
   "language": "python",
   "name": "python2"
  },
  "language_info": {
   "codemirror_mode": {
    "name": "ipython",
    "version": 2
   },
   "file_extension": ".py",
   "mimetype": "text/x-python",
   "name": "python",
   "nbconvert_exporter": "python",
   "pygments_lexer": "ipython2",
   "version": "2.7.13"
  }
 },
 "nbformat": 4,
 "nbformat_minor": 2
}
